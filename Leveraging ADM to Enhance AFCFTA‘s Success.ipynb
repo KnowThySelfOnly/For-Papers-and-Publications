{
  "nbformat": 4,
  "nbformat_minor": 0,
  "metadata": {
    "colab": {
      "provenance": [],
      "authorship_tag": "ABX9TyPe047ajGxLeBsvRdj6MFxj",
      "include_colab_link": true
    },
    "kernelspec": {
      "name": "python3",
      "display_name": "Python 3"
    },
    "language_info": {
      "name": "python"
    }
  },
  "cells": [
    {
      "cell_type": "markdown",
      "metadata": {
        "id": "view-in-github",
        "colab_type": "text"
      },
      "source": [
        "<a href=\"https://colab.research.google.com/github/KnowThySelfOnly/For-Papers-and-Publications/blob/main/Leveraging%20ADM%20to%20Enhance%20AFCFTA%E2%80%98s%20Success.ipynb\" target=\"_parent\"><img src=\"https://colab.research.google.com/assets/colab-badge.svg\" alt=\"Open In Colab\"/></a>"
      ]
    },
    {
      "cell_type": "code",
      "source": [
        "class PreliminaryPhase:\n",
        "    def __init__(self):\n",
        "        self.stakeholders = []\n",
        "        self.architecture_principles = []\n",
        "\n",
        "    def add_stakeholder(self, name, role):\n",
        "        self.stakeholders.append({'name': name, 'role': role})\n",
        "\n",
        "    def set_principles(self, principles):\n",
        "        self.architecture_principles = principles\n",
        "\n",
        "    def display_info(self):\n",
        "        print(\" Key Stakeholders:\")\n",
        "        for stakeholder in self.stakeholders:\n",
        "            print(f\"- {stakeholder['name']} ({stakeholder['role']})\")\n",
        "        print(\"\\nArchitecture Principles:\")\n",
        "        for principle in self.architecture_principles:\n",
        "            print(f\"- {principle}\")\n",
        "\n",
        "# Example usage\n",
        "preliminary = PreliminaryPhase()\n",
        "preliminary.add_stakeholder(\"African Union\", \"Governance and guidance\")\n",
        "preliminary.set_principles([\"Unity and Solidarity among African countries\", \"Peace and security \"])\n",
        "preliminary.display_info()\n"
      ],
      "metadata": {
        "colab": {
          "base_uri": "https://localhost:8080/"
        },
        "id": "UoydsoYTKD4M",
        "outputId": "30711a27-cc7f-4330-fae8-82a846015767"
      },
      "execution_count": 11,
      "outputs": [
        {
          "output_type": "stream",
          "name": "stdout",
          "text": [
            " Key Stakeholders:\n",
            "- African Union (Governance and guidance)\n",
            "\n",
            "Architecture Principles:\n",
            "- Unity and Solidarity among African countries\n",
            "- Peace and security \n"
          ]
        }
      ]
    },
    {
      "cell_type": "code",
      "source": [
        "class ArchitectureVision:\n",
        "    def __init__(self):\n",
        "        self.scope = \"\"\n",
        "        self.objectives = []\n",
        "        self.business_scenarios = []\n",
        "\n",
        "    def set_scope(self, scope):\n",
        "        self.scope = scope\n",
        "\n",
        "    def add_objective(self, objective):\n",
        "        self.objectives.append(objective)\n",
        "\n",
        "    def add_business_scenario(self, scenario):\n",
        "        self.business_scenarios.append(scenario)\n",
        "\n",
        "    def display_vision(self):\n",
        "        print(\"Architecture Vision\")\n",
        "        print(f\"Scope: {self.scope}\")\n",
        "        print(\"\\nObjectives:\")\n",
        "        for obj in self.objectives:\n",
        "            print(f\"- {obj}\")\n",
        "        print(\"\\nBusiness Scenarios:\")\n",
        "        for scenario in self.business_scenarios:\n",
        "            print(f\"- {scenario}\")\n",
        "\n",
        "# Example usage\n",
        "vision = ArchitectureVision()\n",
        "vision.set_scope(\"Enhance trade integration within AFCFTA\")\n",
        "vision.add_objective(\"Increase intra-African trade by 50%\")\n",
        "vision.add_business_scenario(\"Scenario 1: Cross-border e-commerce\")\n",
        "vision.display_vision()\n"
      ],
      "metadata": {
        "colab": {
          "base_uri": "https://localhost:8080/"
        },
        "id": "h5xE1JH2KbmN",
        "outputId": "f78455e1-55cd-4cd4-d37f-86388735ca47"
      },
      "execution_count": null,
      "outputs": [
        {
          "output_type": "stream",
          "name": "stdout",
          "text": [
            "Architecture Vision\n",
            "Scope: Enhance trade integration within AFCFTA\n",
            "\n",
            "Objectives:\n",
            "- Increase intra-African trade by 50%\n",
            "\n",
            "Business Scenarios:\n",
            "- Scenario 1: Cross-border e-commerce\n"
          ]
        }
      ]
    },
    {
      "cell_type": "code",
      "source": [
        "class BusinessArchitecture:\n",
        "    def __init__(self):\n",
        "        self.processes = []\n",
        "\n",
        "    def add_process(self, process_name, description):\n",
        "        self.processes.append({'process_name': process_name, 'description': description})\n",
        "\n",
        "    def display_processes(self):\n",
        "        print(\"Business Processes:\")\n",
        "        for process in self.processes:\n",
        "            print(f\"- {process['process_name']}: {process['description']}\")\n",
        "\n",
        "# Example usage\n",
        "business_arch = BusinessArchitecture()\n",
        "business_arch.add_process(\"Trade Facilitation\", \"Streamline cross-border trade procedures\")\n",
        "business_arch.display_processes()\n"
      ],
      "metadata": {
        "colab": {
          "base_uri": "https://localhost:8080/"
        },
        "id": "bTFj93GjKyXH",
        "outputId": "e0fc6fc3-c5c0-496c-eb52-85b2a6398f16"
      },
      "execution_count": null,
      "outputs": [
        {
          "output_type": "stream",
          "name": "stdout",
          "text": [
            "Business Processes:\n",
            "- Trade Facilitation: Streamline cross-border trade procedures\n"
          ]
        }
      ]
    },
    {
      "cell_type": "code",
      "source": [
        "class InformationSystemsArchitecture:\n",
        "    def __init__(self):\n",
        "        self.data_architecture = {}\n",
        "        self.application_architecture = {}\n",
        "\n",
        "    def set_data_architecture(self, data_model):\n",
        "        self.data_architecture = data_model\n",
        "\n",
        "    def set_application_architecture(self, app_model):\n",
        "        self.application_architecture = app_model\n",
        "\n",
        "    def display_architectures(self):\n",
        "        print(\"Data Architecture:\")\n",
        "        for key, value in self.data_architecture.items():\n",
        "            print(f\"- {key}: {value}\")\n",
        "        print(\"\\nApplication Architecture:\")\n",
        "        for key, value in self.application_architecture.items():\n",
        "            print(f\"- {key}: {value}\")\n",
        "\n",
        "# Example usage\n",
        "info_arch = InformationSystemsArchitecture()\n",
        "info_arch.set_data_architecture({\"Entity\": \"Trade Data\", \"Attributes\": [\"Country\", \"Product\", \"Volume\"]})\n",
        "info_arch.set_application_architecture({\"Application\": \"Trade Management System\", \"Function\": \"Track trade activities\"})\n",
        "info_arch.display_architectures()\n"
      ],
      "metadata": {
        "colab": {
          "base_uri": "https://localhost:8080/"
        },
        "id": "T-HGyuXQK7DJ",
        "outputId": "f5a88d8a-c4c9-49cb-e418-ba198b1a83ce"
      },
      "execution_count": null,
      "outputs": [
        {
          "output_type": "stream",
          "name": "stdout",
          "text": [
            "Data Architecture:\n",
            "- Entity: Trade Data\n",
            "- Attributes: ['Country', 'Product', 'Volume']\n",
            "\n",
            "Application Architecture:\n",
            "- Application: Trade Management System\n",
            "- Function: Track trade activities\n"
          ]
        }
      ]
    },
    {
      "cell_type": "code",
      "source": [
        "def main():\n",
        "    # Preliminary Phase\n",
        "    preliminary = PreliminaryPhase()\n",
        "    preliminary.add_stakeholder(\"John Doe\", \"Project Manager\")\n",
        "    preliminary.set_principles([\"Principle 1\", \"Principle 2\"])\n",
        "    preliminary.display_info()\n",
        "\n",
        "    # Phase A: Architecture Vision\n",
        "    vision = ArchitectureVision()\n",
        "    vision.set_scope(\"Enhance trade integration within AFCFTA\")\n",
        "    vision.add_objective(\"Increase intra-African trade by 50%\")\n",
        "    vision.add_business_scenario(\"Scenario 1: Cross-border e-commerce\")\n",
        "    vision.display_vision()\n",
        "\n",
        "    # Phase B: Business Architecture\n",
        "    business_arch = BusinessArchitecture()\n",
        "    business_arch.add_process(\"Trade Facilitation\", \"Streamline cross-border trade procedures\")\n",
        "    business_arch.display_processes()\n",
        "\n",
        "    # Phase C: Information Systems Architecture\n",
        "    info_arch = InformationSystemsArchitecture()\n",
        "    info_arch.set_data_architecture({\"Entity\": \"Trade Data\", \"Attributes\": [\"Country\", \"Product\", \"Volume\"]})\n",
        "    info_arch.set_application_architecture({\"Application\": \"Trade Management System\", \"Function\": \"Track trade activities\"})\n",
        "    info_arch.display_architectures()\n",
        "\n",
        "    # Continue with other phases...\n",
        "if __name__ == \"__main__\":\n",
        "    main()\n"
      ],
      "metadata": {
        "colab": {
          "base_uri": "https://localhost:8080/"
        },
        "id": "U7DyQbaaLT8g",
        "outputId": "9a907a4d-2096-4845-be2c-2b92db8a2046"
      },
      "execution_count": null,
      "outputs": [
        {
          "output_type": "stream",
          "name": "stdout",
          "text": [
            "Stakeholders:\n",
            "- John Doe (Project Manager)\n",
            "\n",
            "Architecture Principles:\n",
            "- Principle 1\n",
            "- Principle 2\n",
            "Architecture Vision\n",
            "Scope: Enhance trade integration within AFCFTA\n",
            "\n",
            "Objectives:\n",
            "- Increase intra-African trade by 50%\n",
            "\n",
            "Business Scenarios:\n",
            "- Scenario 1: Cross-border e-commerce\n",
            "Business Processes:\n",
            "- Trade Facilitation: Streamline cross-border trade procedures\n",
            "Data Architecture:\n",
            "- Entity: Trade Data\n",
            "- Attributes: ['Country', 'Product', 'Volume']\n",
            "\n",
            "Application Architecture:\n",
            "- Application: Trade Management System\n",
            "- Function: Track trade activities\n"
          ]
        }
      ]
    }
  ]
}